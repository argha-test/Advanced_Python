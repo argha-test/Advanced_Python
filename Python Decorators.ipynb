{
 "cells": [
  {
   "cell_type": "code",
   "execution_count": 6,
   "id": "46b7d40b",
   "metadata": {},
   "outputs": [],
   "source": [
    "## function copy\n",
    "## closures\n",
    "## decorators"
   ]
  },
  {
   "cell_type": "markdown",
   "id": "7e784c3f",
   "metadata": {},
   "source": [
    "- Function Copy"
   ]
  },
  {
   "cell_type": "code",
   "execution_count": 7,
   "id": "af8d5b0f",
   "metadata": {},
   "outputs": [],
   "source": [
    "## Function copy\n",
    "\n",
    "def welcome():\n",
    "    print('welcome to our channel')"
   ]
  },
  {
   "cell_type": "code",
   "execution_count": 9,
   "id": "442802d5",
   "metadata": {},
   "outputs": [],
   "source": [
    "wel=welcome"
   ]
  },
  {
   "cell_type": "code",
   "execution_count": 10,
   "id": "ce7cedb1",
   "metadata": {},
   "outputs": [],
   "source": [
    "del welcome"
   ]
  },
  {
   "cell_type": "code",
   "execution_count": 12,
   "id": "931f24f6",
   "metadata": {},
   "outputs": [
    {
     "name": "stdout",
     "output_type": "stream",
     "text": [
      "welcome to our channel\n"
     ]
    }
   ],
   "source": [
    "wel()"
   ]
  },
  {
   "cell_type": "code",
   "execution_count": 13,
   "id": "80d28694",
   "metadata": {},
   "outputs": [
    {
     "ename": "NameError",
     "evalue": "name 'wlcome' is not defined",
     "output_type": "error",
     "traceback": [
      "\u001b[1;31m---------------------------------------------------------------------------\u001b[0m",
      "\u001b[1;31mNameError\u001b[0m                                 Traceback (most recent call last)",
      "\u001b[1;32m~\\AppData\\Local\\Temp/ipykernel_6104/2126983416.py\u001b[0m in \u001b[0;36m<module>\u001b[1;34m\u001b[0m\n\u001b[1;32m----> 1\u001b[1;33m \u001b[0mwlcome\u001b[0m\u001b[1;33m(\u001b[0m\u001b[1;33m)\u001b[0m\u001b[1;33m\u001b[0m\u001b[1;33m\u001b[0m\u001b[0m\n\u001b[0m",
      "\u001b[1;31mNameError\u001b[0m: name 'wlcome' is not defined"
     ]
    }
   ],
   "source": [
    "wlcome()"
   ]
  },
  {
   "cell_type": "markdown",
   "id": "3592dfc5",
   "metadata": {},
   "source": [
    "- closures"
   ]
  },
  {
   "cell_type": "code",
   "execution_count": 18,
   "id": "bd92a7eb",
   "metadata": {},
   "outputs": [],
   "source": [
    "def main_welcome(msg):\n",
    "    \n",
    "    def sub_welcome():\n",
    "        print('welcome to our channel')\n",
    "        print(msg)\n",
    "        print('Lets start together')\n",
    "    return sub_welcome()"
   ]
  },
  {
   "cell_type": "code",
   "execution_count": 19,
   "id": "31f691d3",
   "metadata": {},
   "outputs": [
    {
     "name": "stdout",
     "output_type": "stream",
     "text": [
      "welcome to our channel\n",
      "Hi Team\n",
      "Lets start together\n"
     ]
    }
   ],
   "source": [
    "main_welcome('Hi Team')"
   ]
  },
  {
   "cell_type": "markdown",
   "id": "b4980358",
   "metadata": {},
   "source": [
    "- Closures & initial Decorators"
   ]
  },
  {
   "cell_type": "code",
   "execution_count": 20,
   "id": "fc6e0267",
   "metadata": {},
   "outputs": [],
   "source": [
    "### Closures & initial Decorators\n",
    "\n",
    "def main_welcome(func):\n",
    "    \n",
    "    def sub_welcome():\n",
    "        print('welcome to our channel')\n",
    "        print(func([1,2,3,4,5,6]))\n",
    "        print('Lets start together')\n",
    "    return sub_welcome()"
   ]
  },
  {
   "cell_type": "code",
   "execution_count": 21,
   "id": "a84e119b",
   "metadata": {},
   "outputs": [
    {
     "name": "stdout",
     "output_type": "stream",
     "text": [
      "welcome to our channel\n",
      "6\n",
      "Lets start together\n"
     ]
    }
   ],
   "source": [
    "main_welcome(len)"
   ]
  },
  {
   "cell_type": "markdown",
   "id": "523460c3",
   "metadata": {},
   "source": [
    "- Decorators"
   ]
  },
  {
   "cell_type": "code",
   "execution_count": 24,
   "id": "4919228d",
   "metadata": {},
   "outputs": [],
   "source": [
    "## Decorators\n",
    "\n",
    "def main_welcome(func):\n",
    "    \n",
    "    def sub_welcome():\n",
    "        print('welcome to our channel')\n",
    "        func()\n",
    "        print('Lets start together')\n",
    "    return sub_welcome()"
   ]
  },
  {
   "cell_type": "code",
   "execution_count": 25,
   "id": "41d46428",
   "metadata": {},
   "outputs": [],
   "source": [
    "def channel_name():\n",
    "    print('create a new channel')"
   ]
  },
  {
   "cell_type": "code",
   "execution_count": 26,
   "id": "a6e26f97",
   "metadata": {},
   "outputs": [
    {
     "name": "stdout",
     "output_type": "stream",
     "text": [
      "welcome to our channel\n",
      "create a new channel\n",
      "Lets start together\n"
     ]
    }
   ],
   "source": [
    "main_welcome(channel_name)"
   ]
  },
  {
   "cell_type": "code",
   "execution_count": 27,
   "id": "937a8094",
   "metadata": {},
   "outputs": [
    {
     "name": "stdout",
     "output_type": "stream",
     "text": [
      "welcome to our channel\n",
      "create a new channel\n",
      "Lets start together\n"
     ]
    }
   ],
   "source": [
    "@main_welcome\n",
    "def channel_name():\n",
    "    print('create a new channel')"
   ]
  },
  {
   "cell_type": "code",
   "execution_count": null,
   "id": "8542e35c",
   "metadata": {},
   "outputs": [],
   "source": []
  }
 ],
 "metadata": {
  "kernelspec": {
   "display_name": "Python 3 (ipykernel)",
   "language": "python",
   "name": "python3"
  },
  "language_info": {
   "codemirror_mode": {
    "name": "ipython",
    "version": 3
   },
   "file_extension": ".py",
   "mimetype": "text/x-python",
   "name": "python",
   "nbconvert_exporter": "python",
   "pygments_lexer": "ipython3",
   "version": "3.9.7"
  }
 },
 "nbformat": 4,
 "nbformat_minor": 5
}
