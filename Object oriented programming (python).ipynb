{
 "cells": [
  {
   "cell_type": "code",
   "execution_count": 1,
   "id": "f1bc7766",
   "metadata": {},
   "outputs": [],
   "source": [
    "### All classes variable are public\n",
    "### car blueprint \n",
    "class car():\n",
    "    def __init__(self,door,wheel,enginetype):  ## car classes have initializing the constructor\n",
    "        self.door=door   ##initializing particular variable decleare\n",
    "        self.wheel=wheel  ## same \n",
    "        self.enginetype=enginetype\n",
    "    def drive(self):     #public method\n",
    "        print('The person drive the car')"
   ]
  },
  {
   "cell_type": "code",
   "execution_count": 2,
   "id": "197c1c17",
   "metadata": {},
   "outputs": [
    {
     "data": {
      "text/plain": [
       "4"
      ]
     },
     "execution_count": 2,
     "metadata": {},
     "output_type": "execute_result"
    }
   ],
   "source": [
    "car1=car(4,4,\"petrol\")\n",
    "car1.door"
   ]
  },
  {
   "cell_type": "code",
   "execution_count": 6,
   "id": "b2a7dcf0",
   "metadata": {},
   "outputs": [
    {
     "name": "stdout",
     "output_type": "stream",
     "text": [
      "The person drive the car\n"
     ]
    }
   ],
   "source": [
    "car1.drive()"
   ]
  },
  {
   "cell_type": "markdown",
   "id": "1f778401",
   "metadata": {},
   "source": [
    "### inheritance"
   ]
  },
  {
   "cell_type": "code",
   "execution_count": 9,
   "id": "f47c0fcd",
   "metadata": {},
   "outputs": [],
   "source": [
    "class audi(car):\n",
    "    def __init__(self,door,wheel,enginetype,AIsupport):\n",
    "        super().__init__(door,wheel,enginetype)\n",
    "        self.AIsupport=AIsupport\n",
    "    def selfdrive(self):\n",
    "        print(\"The car is self drive also be available\")\n",
    "    "
   ]
  },
  {
   "cell_type": "code",
   "execution_count": 10,
   "id": "52f7ef53",
   "metadata": {},
   "outputs": [],
   "source": [
    "audiQ7=audi(4,4,'petrol',True)"
   ]
  },
  {
   "cell_type": "code",
   "execution_count": 12,
   "id": "f306cb71",
   "metadata": {},
   "outputs": [
    {
     "data": {
      "text/plain": [
       "4"
      ]
     },
     "execution_count": 12,
     "metadata": {},
     "output_type": "execute_result"
    }
   ],
   "source": [
    "audiQ7.wheel"
   ]
  },
  {
   "cell_type": "code",
   "execution_count": 15,
   "id": "a1be0a39",
   "metadata": {},
   "outputs": [
    {
     "data": {
      "text/plain": [
       "bool"
      ]
     },
     "execution_count": 15,
     "metadata": {},
     "output_type": "execute_result"
    }
   ],
   "source": [
    "type(audiQ7.AIsupport)"
   ]
  },
  {
   "cell_type": "code",
   "execution_count": 19,
   "id": "7e3d4dad",
   "metadata": {},
   "outputs": [
    {
     "name": "stdout",
     "output_type": "stream",
     "text": [
      "The car is self drive also be available\n"
     ]
    }
   ],
   "source": [
    "audiQ7.selfdrive()"
   ]
  },
  {
   "cell_type": "code",
   "execution_count": 20,
   "id": "723a7545",
   "metadata": {},
   "outputs": [
    {
     "name": "stdout",
     "output_type": "stream",
     "text": [
      "The person drive the car\n"
     ]
    }
   ],
   "source": [
    "audiQ7.drive()"
   ]
  },
  {
   "cell_type": "code",
   "execution_count": null,
   "id": "f9be16fb",
   "metadata": {},
   "outputs": [],
   "source": []
  },
  {
   "cell_type": "markdown",
   "id": "856ef693",
   "metadata": {},
   "source": [
    "### Python OOPS- Public, Protected And Private"
   ]
  },
  {
   "cell_type": "code",
   "execution_count": 21,
   "id": "f1f97390",
   "metadata": {},
   "outputs": [],
   "source": [
    "### public\n",
    "\n",
    "class car():\n",
    "    def __init__(self,door,wheel,enginetype):  ## car classes have initializing the constructor\n",
    "        self.door=door   ##initializing particular variable decleare\n",
    "        self.wheel=wheel  ## same \n",
    "        self.enginetype=enginetype\n",
    "    def drive(self):     #public method\n",
    "        print('The person drive the car')"
   ]
  },
  {
   "cell_type": "code",
   "execution_count": 22,
   "id": "1cf84642",
   "metadata": {},
   "outputs": [],
   "source": [
    "### protected\n",
    "\n",
    "\n",
    "class car():\n",
    "    def __init__(self,door,wheel,enginetype):  ## car classes have initializing the constructor\n",
    "        self._door=door   ##initializing particular variable decleare\n",
    "        self._wheel=wheel  ## same \n",
    "        self._enginetype=enginetype\n",
    "    def drive(self):     #public method\n",
    "        print('The person drive the car')"
   ]
  },
  {
   "cell_type": "code",
   "execution_count": 23,
   "id": "f3f2f6a2",
   "metadata": {},
   "outputs": [],
   "source": [
    "### private\n",
    "\n",
    "\n",
    "class car():\n",
    "    def __init__(self,door,wheel,enginetype):  ## car classes have initializing the constructor\n",
    "        self.__door=door   ##initializing particular variable decleare\n",
    "        self.__wheel=wheel  ## same \n",
    "        self.__enginetype=enginetype\n",
    "    def drive(self):     #public method\n",
    "        print('The person drive the car')"
   ]
  },
  {
   "cell_type": "code",
   "execution_count": null,
   "id": "2696c2fe",
   "metadata": {},
   "outputs": [],
   "source": []
  },
  {
   "cell_type": "markdown",
   "id": "0bafb840",
   "metadata": {},
   "source": [
    "### Class Methods And Class variables"
   ]
  },
  {
   "cell_type": "code",
   "execution_count": 1,
   "id": "78c3bd33",
   "metadata": {},
   "outputs": [],
   "source": [
    "class car():\n",
    "    base_price=100000\n",
    "    def __init__(self,windows,doors,power):   # self used to represent an instance (object) of the given class\n",
    "        self.windows=windows\n",
    "        self.doors=doors\n",
    "        self.power=power\n",
    "    def what_base_peice(self):\n",
    "        print('The base price is: ',self.base_price)\n",
    "        \n",
    "    @classmethod\n",
    "    def revised_base_price(cls,inflation):         ## cls refers to the class it self\n",
    "        cls.base_price=cls.base_price+cls.base_price*inflation"
   ]
  },
  {
   "cell_type": "code",
   "execution_count": 2,
   "id": "25634464",
   "metadata": {},
   "outputs": [],
   "source": [
    "car.revised_base_price(0.10)"
   ]
  },
  {
   "cell_type": "code",
   "execution_count": 3,
   "id": "b9ec0eaf",
   "metadata": {},
   "outputs": [
    {
     "data": {
      "text/plain": [
       "110000.0"
      ]
     },
     "execution_count": 3,
     "metadata": {},
     "output_type": "execute_result"
    }
   ],
   "source": [
    "car.base_price"
   ]
  },
  {
   "cell_type": "code",
   "execution_count": 4,
   "id": "b612efcb",
   "metadata": {},
   "outputs": [],
   "source": [
    "car1=car(4,4,2000)"
   ]
  },
  {
   "cell_type": "code",
   "execution_count": 5,
   "id": "ee17a226",
   "metadata": {},
   "outputs": [
    {
     "data": {
      "text/plain": [
       "110000.0"
      ]
     },
     "execution_count": 5,
     "metadata": {},
     "output_type": "execute_result"
    }
   ],
   "source": [
    "car1.base_price"
   ]
  },
  {
   "cell_type": "code",
   "execution_count": 7,
   "id": "0e5da6a7",
   "metadata": {},
   "outputs": [],
   "source": [
    "car1.revised_base_price(0.10)"
   ]
  },
  {
   "cell_type": "code",
   "execution_count": 8,
   "id": "b857a4ee",
   "metadata": {},
   "outputs": [
    {
     "data": {
      "text/plain": [
       "121000.0"
      ]
     },
     "execution_count": 8,
     "metadata": {},
     "output_type": "execute_result"
    }
   ],
   "source": [
    "car1.base_price"
   ]
  },
  {
   "cell_type": "code",
   "execution_count": 10,
   "id": "9f7e1370",
   "metadata": {},
   "outputs": [],
   "source": [
    "car3=car(3,4,2000)"
   ]
  },
  {
   "cell_type": "code",
   "execution_count": 11,
   "id": "a8e9d529",
   "metadata": {},
   "outputs": [
    {
     "data": {
      "text/plain": [
       "121000.0"
      ]
     },
     "execution_count": 11,
     "metadata": {},
     "output_type": "execute_result"
    }
   ],
   "source": [
    "car3.base_price"
   ]
  },
  {
   "cell_type": "code",
   "execution_count": null,
   "id": "21879e35",
   "metadata": {},
   "outputs": [],
   "source": []
  },
  {
   "cell_type": "markdown",
   "id": "28b23630",
   "metadata": {},
   "source": [
    "### OOPS-Multiple Inheritance In Python"
   ]
  },
  {
   "cell_type": "code",
   "execution_count": 12,
   "id": "9ced089d",
   "metadata": {},
   "outputs": [],
   "source": [
    "class A:\n",
    "    def method1(self):\n",
    "        print(\"A class method is called\")"
   ]
  },
  {
   "cell_type": "code",
   "execution_count": 13,
   "id": "aaedffef",
   "metadata": {},
   "outputs": [],
   "source": [
    "class B(A):\n",
    "    def method1(self):\n",
    "        print(\"B class method is called\")\n",
    "    def method2(self):\n",
    "        print(\"B class method2 is called\")\n",
    "    "
   ]
  },
  {
   "cell_type": "code",
   "execution_count": 14,
   "id": "7f8f8996",
   "metadata": {},
   "outputs": [],
   "source": [
    "class C(A):\n",
    "    def method1(self):\n",
    "        print(\"C class method is called\")"
   ]
  },
  {
   "cell_type": "code",
   "execution_count": 15,
   "id": "10722ff6",
   "metadata": {},
   "outputs": [],
   "source": [
    "class D(B,C):\n",
    "    def method1(self):\n",
    "        print(\"D class method is called\")\n",
    "        C.method1(self)\n",
    "        B.method1(self)\n",
    "        A.method1(self)"
   ]
  },
  {
   "cell_type": "code",
   "execution_count": 16,
   "id": "34ce2529",
   "metadata": {},
   "outputs": [],
   "source": [
    "d=D()"
   ]
  },
  {
   "cell_type": "code",
   "execution_count": 17,
   "id": "5554ded1",
   "metadata": {},
   "outputs": [
    {
     "name": "stdout",
     "output_type": "stream",
     "text": [
      "D class method is called\n",
      "C class method is called\n",
      "B class method is called\n",
      "A class method is called\n"
     ]
    }
   ],
   "source": [
    "d.method1()"
   ]
  },
  {
   "cell_type": "code",
   "execution_count": 18,
   "id": "2cbb861f",
   "metadata": {},
   "outputs": [
    {
     "name": "stdout",
     "output_type": "stream",
     "text": [
      "B class method is called\n"
     ]
    }
   ],
   "source": [
    "B.method1(d)"
   ]
  },
  {
   "cell_type": "code",
   "execution_count": 19,
   "id": "20019425",
   "metadata": {},
   "outputs": [
    {
     "name": "stdout",
     "output_type": "stream",
     "text": [
      "A class method is called\n"
     ]
    }
   ],
   "source": [
    "A.method1(d)"
   ]
  },
  {
   "cell_type": "code",
   "execution_count": null,
   "id": "e60fe369",
   "metadata": {},
   "outputs": [],
   "source": []
  }
 ],
 "metadata": {
  "kernelspec": {
   "display_name": "Python 3 (ipykernel)",
   "language": "python",
   "name": "python3"
  },
  "language_info": {
   "codemirror_mode": {
    "name": "ipython",
    "version": 3
   },
   "file_extension": ".py",
   "mimetype": "text/x-python",
   "name": "python",
   "nbconvert_exporter": "python",
   "pygments_lexer": "ipython3",
   "version": "3.9.7"
  }
 },
 "nbformat": 4,
 "nbformat_minor": 5
}
