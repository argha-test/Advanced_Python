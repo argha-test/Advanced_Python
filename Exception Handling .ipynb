{
 "cells": [
  {
   "cell_type": "code",
   "execution_count": 1,
   "id": "696a7fc4",
   "metadata": {},
   "outputs": [
    {
     "ename": "NameError",
     "evalue": "name 'b' is not defined",
     "output_type": "error",
     "traceback": [
      "\u001b[1;31m---------------------------------------------------------------------------\u001b[0m",
      "\u001b[1;31mNameError\u001b[0m                                 Traceback (most recent call last)",
      "\u001b[1;32m~\\AppData\\Local\\Temp/ipykernel_13800/905401003.py\u001b[0m in \u001b[0;36m<module>\u001b[1;34m\u001b[0m\n\u001b[1;32m----> 1\u001b[1;33m \u001b[0ma\u001b[0m\u001b[1;33m=\u001b[0m\u001b[0mb\u001b[0m\u001b[1;33m\u001b[0m\u001b[1;33m\u001b[0m\u001b[0m\n\u001b[0m",
      "\u001b[1;31mNameError\u001b[0m: name 'b' is not defined"
     ]
    }
   ],
   "source": [
    "a=b"
   ]
  },
  {
   "cell_type": "code",
   "execution_count": 2,
   "id": "79ccd5cc",
   "metadata": {},
   "outputs": [
    {
     "name": "stdout",
     "output_type": "stream",
     "text": [
      "value not define\n"
     ]
    }
   ],
   "source": [
    "try:\n",
    "    a=b\n",
    "except:\n",
    "    print('value not define')"
   ]
  },
  {
   "cell_type": "code",
   "execution_count": 4,
   "id": "f14daf3a",
   "metadata": {},
   "outputs": [
    {
     "name": "stdout",
     "output_type": "stream",
     "text": [
      "name 'b' is not defined\n"
     ]
    }
   ],
   "source": [
    "try:\n",
    "    a=b\n",
    "except Exception as ex:\n",
    "    print(ex)"
   ]
  },
  {
   "cell_type": "code",
   "execution_count": 6,
   "id": "c1d8edf3",
   "metadata": {},
   "outputs": [
    {
     "name": "stdout",
     "output_type": "stream",
     "text": [
      "b value not define here\n"
     ]
    }
   ],
   "source": [
    "try:\n",
    "    a=b\n",
    "except NameError:\n",
    "    print('b value not define here')"
   ]
  },
  {
   "cell_type": "code",
   "execution_count": 15,
   "id": "229c462c",
   "metadata": {},
   "outputs": [
    {
     "name": "stdout",
     "output_type": "stream",
     "text": [
      "enter a number 12\n",
      "enter another number 0\n",
      "value is greter than 0\n",
      "the code is end now\n"
     ]
    }
   ],
   "source": [
    "try:\n",
    "    a=int(input(\"enter a number \"))\n",
    "    b=int(input('enter another number '))\n",
    "    c=a/b\n",
    "except NameError:\n",
    "    print('value not define')\n",
    "except ZeroDivisionError:\n",
    "    print('value is greter than 0')\n",
    "except Exception as e:\n",
    "    print(e)\n",
    "else:\n",
    "    print(c)\n",
    "finally:\n",
    "    print('the code is end now')"
   ]
  },
  {
   "cell_type": "code",
   "execution_count": null,
   "id": "747bbcda",
   "metadata": {},
   "outputs": [],
   "source": []
  },
  {
   "cell_type": "markdown",
   "id": "6bb5f4e6",
   "metadata": {},
   "source": [
    "### Custom Exception Handling"
   ]
  },
  {
   "cell_type": "code",
   "execution_count": 16,
   "id": "43f7e777",
   "metadata": {},
   "outputs": [],
   "source": [
    "class Error(Exception):\n",
    "    pass\n",
    "\n",
    "\n",
    "class dobException(Error):\n",
    "    pass"
   ]
  },
  {
   "cell_type": "code",
   "execution_count": 22,
   "id": "f3800eaa",
   "metadata": {},
   "outputs": [
    {
     "name": "stdout",
     "output_type": "stream",
     "text": [
      "Enter a valid year 1977\n",
      "you are not eligible for this exam\n"
     ]
    }
   ],
   "source": [
    "year=int(input(\"Enter a valid year \"))\n",
    "age=2022-year\n",
    "try:\n",
    "    if age<=30 & age>20:\n",
    "        \n",
    "        print('You are eligible for this exam')\n",
    "    else:\n",
    "        raise dobException\n",
    "except dobException:\n",
    "    print('you are not eligible for this exam')"
   ]
  },
  {
   "cell_type": "code",
   "execution_count": null,
   "id": "ee5d47ac",
   "metadata": {},
   "outputs": [],
   "source": []
  }
 ],
 "metadata": {
  "kernelspec": {
   "display_name": "Python 3 (ipykernel)",
   "language": "python",
   "name": "python3"
  },
  "language_info": {
   "codemirror_mode": {
    "name": "ipython",
    "version": 3
   },
   "file_extension": ".py",
   "mimetype": "text/x-python",
   "name": "python",
   "nbconvert_exporter": "python",
   "pygments_lexer": "ipython3",
   "version": "3.9.7"
  }
 },
 "nbformat": 4,
 "nbformat_minor": 5
}
